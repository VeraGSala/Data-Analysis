{
 "cells": [
  {
   "cell_type": "markdown",
   "metadata": {},
   "source": [
    "<h1> <big> Indoor Locationing by wifi fingerprinting </big> </h1> \n",
    "<h3> Vera Giulia Sala - Ubiqum Code Academy </h3>"
   ]
  },
  {
   "cell_type": "markdown",
   "metadata": {},
   "source": [
    "<ol> \n",
    "  <li><a href=\"#p1\"> Goal of the analysis</a></li> \n",
    "  <li><a href=\"#p2\">Dataset</a></li> \n",
    "  <li><a href=\"#p4\">Preprocessing and explorative analysis of data</a></li> \n",
    "      <ol>   <li> <a href=\"#p4_1\">First exploration of data and feature redefinition</a> </li> \n",
    "             <li> <a href=\"#p4_2\">Data visualization</a> </li>\n",
    "             <li> <a href=\"#p4_3\">Removing outliers</a> </li>\n",
    "             <li> <a href=\"#p4_4\">4 Preprocessing strategies</a> </li></ol>\n",
    "  <li><a href=\"#p5\">Location prediction: zone (classification)</a></li> \n",
    "  <li><a href=\"#p6\">Location prediction: coordinates (regression)</a></li> \n",
    "  <li><a href=\"#p7\">Conclusion</a></li> \n",
    "</ol>"
   ]
  },
  {
   "cell_type": "markdown",
   "metadata": {},
   "source": [
    "# <a id=\"p1\">Goal of the analysis</a> "
   ]
  },
  {
   "cell_type": "markdown",
   "metadata": {},
   "source": [
    "The goal of the analysis is to use \"wifi fingerprinting\" to determine a person's location in indoor spaces. While GPS works fairly reliably outdoors, it generally doesn't work indoors, so wifi fingerprinting appears as a good alternative candidate. Wifi fingerprinting uses the signals from multiple wifi hotspots within the building to determine location, analogously to how GPS uses satellite signals. This technique could be deployed on large industrial campuses, in shopping malls, et cetera to help people to navigate a complex, unfamiliar interior space without getting lost. \n",
    "\n",
    "To validate the wifi fingerprint technique, we use multiple machine learning models on a large database of wifi fingerprints for a multi-building university campus with a location (building, floor, and x-y coordinates) associated with each fingerprint. The goal is to evaluate different predictive models in order to predict indoor location with the highest accuracy."
   ]
  },
  {
   "cell_type": "markdown",
   "metadata": {},
   "source": [
    "# <a id=\"p2\">Dataset: UJIIndoorLoc </a>"
   ]
  },
  {
   "cell_type": "markdown",
   "metadata": {},
   "source": [
    "The dataset is the result of a project realised at Universitat Jaume I (Castellón), in which the wifi fingerprint at different locations of the multi-building university campus has been collected. The study includes 3 buildings, 5 floors and a total area of 100,000m2. Each instance of the dataset contains the wifi fingerprint (520 values) and the corresponding location (building, floor, and x-y coordinates).  \n",
    "\n",
    "**Data set**        \n",
    "19937  instances\n",
    "529 features  \n",
    "\n",
    "**Features**  \n",
    "The 529 features correspond to:  \n",
    "- 520 WAPs fingerprint values, giving the intensity recorded by each WAP (Wireless Access Point) in dBm\n",
    "- building \n",
    "- floor\n",
    "- x-y coordinates\n",
    "- other infos: SpaceID, RelativePosition, UserID, PhoneID, Timestamp\n",
    "\n",
    "The WAP intensity values are represented as negative integer values ranging -104dBm (extremely poor signal) to 0dbM. The positive value 100 is used to denote when a WAP was not detected.\n"
   ]
  },
  {
   "cell_type": "markdown",
   "metadata": {},
   "source": [
    "<img src=\"CampusImg.png\" style=\"width: 400px;\" align=\"left\"/>\n",
    "\n"
   ]
  },
  {
   "cell_type": "markdown",
   "metadata": {},
   "source": [
    "# <a id=\"p4\">Preprocessing and explorative analysis of data</a>"
   ]
  },
  {
   "cell_type": "markdown",
   "metadata": {},
   "source": [
    "## <a id=\"p4_1\">First exploration of data and feature redefinition</a>"
   ]
  },
  {
   "cell_type": "code",
   "execution_count": 53,
   "metadata": {},
   "outputs": [],
   "source": [
    "library(dplyr)\n",
    "library(ggplot2)\n",
    "library(RColorBrewer)\n",
    "library(wesanderson)\n",
    "library(reshape2)\n",
    "library(ggthemes)\n",
    "library(scales)\n",
    "library(caret)"
   ]
  },
  {
   "cell_type": "code",
   "execution_count": 54,
   "metadata": {
    "collapsed": true
   },
   "outputs": [],
   "source": [
    "dati <- read.csv(\"UJIndoorLoc/trainingData.csv\")"
   ]
  },
  {
   "cell_type": "code",
   "execution_count": 55,
   "metadata": {},
   "outputs": [
    {
     "data": {
      "text/html": [
       "<table>\n",
       "<thead><tr><th scope=col>WAP001</th><th scope=col>WAP002</th><th scope=col>WAP003</th><th scope=col>WAP004</th><th scope=col>WAP005</th><th scope=col>WAP006</th><th scope=col>WAP007</th><th scope=col>WAP008</th><th scope=col>WAP009</th><th scope=col>WAP010</th><th scope=col>...</th><th scope=col>WAP520</th><th scope=col>LONGITUDE</th><th scope=col>LATITUDE</th><th scope=col>FLOOR</th><th scope=col>BUILDINGID</th><th scope=col>SPACEID</th><th scope=col>RELATIVEPOSITION</th><th scope=col>USERID</th><th scope=col>PHONEID</th><th scope=col>TIMESTAMP</th></tr></thead>\n",
       "<tbody>\n",
       "\t<tr><td>100       </td><td>100       </td><td>100       </td><td>100       </td><td>100       </td><td>100       </td><td>100       </td><td>100       </td><td>100       </td><td>100       </td><td>...       </td><td>100       </td><td>-7541.264 </td><td>4864921   </td><td>2         </td><td>1         </td><td>106       </td><td>2         </td><td> 2        </td><td>23        </td><td>1371713733</td></tr>\n",
       "\t<tr><td>100       </td><td>100       </td><td>100       </td><td>100       </td><td>100       </td><td>100       </td><td>100       </td><td>100       </td><td>100       </td><td>100       </td><td>...       </td><td>100       </td><td>-7536.621 </td><td>4864934   </td><td>2         </td><td>1         </td><td>106       </td><td>2         </td><td> 2        </td><td>23        </td><td>1371713691</td></tr>\n",
       "\t<tr><td>100       </td><td>100       </td><td>100       </td><td>100       </td><td>100       </td><td>100       </td><td>100       </td><td>-97       </td><td>100       </td><td>100       </td><td>...       </td><td>100       </td><td>-7519.152 </td><td>4864950   </td><td>2         </td><td>1         </td><td>103       </td><td>2         </td><td> 2        </td><td>23        </td><td>1371714095</td></tr>\n",
       "\t<tr><td>100       </td><td>100       </td><td>100       </td><td>100       </td><td>100       </td><td>100       </td><td>100       </td><td>100       </td><td>100       </td><td>100       </td><td>...       </td><td>100       </td><td>-7524.570 </td><td>4864934   </td><td>2         </td><td>1         </td><td>102       </td><td>2         </td><td> 2        </td><td>23        </td><td>1371713807</td></tr>\n",
       "\t<tr><td>100       </td><td>100       </td><td>100       </td><td>100       </td><td>100       </td><td>100       </td><td>100       </td><td>100       </td><td>100       </td><td>100       </td><td>...       </td><td>100       </td><td>-7632.144 </td><td>4864982   </td><td>0         </td><td>0         </td><td>122       </td><td>2         </td><td>11        </td><td>13        </td><td>1369909710</td></tr>\n",
       "\t<tr><td>100       </td><td>100       </td><td>100       </td><td>100       </td><td>100       </td><td>100       </td><td>100       </td><td>100       </td><td>100       </td><td>100       </td><td>...       </td><td>100       </td><td>-7533.896 </td><td>4864939   </td><td>2         </td><td>1         </td><td>105       </td><td>2         </td><td> 2        </td><td>23        </td><td>1371713841</td></tr>\n",
       "</tbody>\n",
       "</table>\n"
      ],
      "text/latex": [
       "\\begin{tabular}{r|lllllllllllllllllllllllllllllllllllllllllllllllllllllllllllllllllllllllllllllllllllllllllllllllllllllllllllllllllllllllllllllllllllllllllllllllllllllllllllllllllllllllllllllllllllllllllllllllllllllllllllllllllllllllllllllllllllllllllllllllllllllllllllllllllllllllllllllllllllllllllllllllllllllllllllllllllllllllllllllllllllllllllllllllllllllllllllllllllllllllllllllllllllllllllllllllllllllllllllllllllllllllllllllllllllllllllllllllllllllllllllllllllllllllllllllllllllllllllllllllllllllllllllllllllllllllllllllllllllllllllllllllll}\n",
       " WAP001 & WAP002 & WAP003 & WAP004 & WAP005 & WAP006 & WAP007 & WAP008 & WAP009 & WAP010 & ... & WAP520 & LONGITUDE & LATITUDE & FLOOR & BUILDINGID & SPACEID & RELATIVEPOSITION & USERID & PHONEID & TIMESTAMP\\\\\n",
       "\\hline\n",
       "\t 100        & 100        & 100        & 100        & 100        & 100        & 100        & 100        & 100        & 100        & ...        & 100        & -7541.264  & 4864921    & 2          & 1          & 106        & 2          &  2         & 23         & 1371713733\\\\\n",
       "\t 100        & 100        & 100        & 100        & 100        & 100        & 100        & 100        & 100        & 100        & ...        & 100        & -7536.621  & 4864934    & 2          & 1          & 106        & 2          &  2         & 23         & 1371713691\\\\\n",
       "\t 100        & 100        & 100        & 100        & 100        & 100        & 100        & -97        & 100        & 100        & ...        & 100        & -7519.152  & 4864950    & 2          & 1          & 103        & 2          &  2         & 23         & 1371714095\\\\\n",
       "\t 100        & 100        & 100        & 100        & 100        & 100        & 100        & 100        & 100        & 100        & ...        & 100        & -7524.570  & 4864934    & 2          & 1          & 102        & 2          &  2         & 23         & 1371713807\\\\\n",
       "\t 100        & 100        & 100        & 100        & 100        & 100        & 100        & 100        & 100        & 100        & ...        & 100        & -7632.144  & 4864982    & 0          & 0          & 122        & 2          & 11         & 13         & 1369909710\\\\\n",
       "\t 100        & 100        & 100        & 100        & 100        & 100        & 100        & 100        & 100        & 100        & ...        & 100        & -7533.896  & 4864939    & 2          & 1          & 105        & 2          &  2         & 23         & 1371713841\\\\\n",
       "\\end{tabular}\n"
      ],
      "text/markdown": [
       "\n",
       "WAP001 | WAP002 | WAP003 | WAP004 | WAP005 | WAP006 | WAP007 | WAP008 | WAP009 | WAP010 | ... | WAP520 | LONGITUDE | LATITUDE | FLOOR | BUILDINGID | SPACEID | RELATIVEPOSITION | USERID | PHONEID | TIMESTAMP | \n",
       "|---|---|---|---|---|---|\n",
       "| 100        | 100        | 100        | 100        | 100        | 100        | 100        | 100        | 100        | 100        | ...        | 100        | -7541.264  | 4864921    | 2          | 1          | 106        | 2          |  2         | 23         | 1371713733 | \n",
       "| 100        | 100        | 100        | 100        | 100        | 100        | 100        | 100        | 100        | 100        | ...        | 100        | -7536.621  | 4864934    | 2          | 1          | 106        | 2          |  2         | 23         | 1371713691 | \n",
       "| 100        | 100        | 100        | 100        | 100        | 100        | 100        | -97        | 100        | 100        | ...        | 100        | -7519.152  | 4864950    | 2          | 1          | 103        | 2          |  2         | 23         | 1371714095 | \n",
       "| 100        | 100        | 100        | 100        | 100        | 100        | 100        | 100        | 100        | 100        | ...        | 100        | -7524.570  | 4864934    | 2          | 1          | 102        | 2          |  2         | 23         | 1371713807 | \n",
       "| 100        | 100        | 100        | 100        | 100        | 100        | 100        | 100        | 100        | 100        | ...        | 100        | -7632.144  | 4864982    | 0          | 0          | 122        | 2          | 11         | 13         | 1369909710 | \n",
       "| 100        | 100        | 100        | 100        | 100        | 100        | 100        | 100        | 100        | 100        | ...        | 100        | -7533.896  | 4864939    | 2          | 1          | 105        | 2          |  2         | 23         | 1371713841 | \n",
       "\n",
       "\n"
      ],
      "text/plain": [
       "  WAP001 WAP002 WAP003 WAP004 WAP005 WAP006 WAP007 WAP008 WAP009 WAP010 ...\n",
       "1 100    100    100    100    100    100    100    100    100    100    ...\n",
       "2 100    100    100    100    100    100    100    100    100    100    ...\n",
       "3 100    100    100    100    100    100    100    -97    100    100    ...\n",
       "4 100    100    100    100    100    100    100    100    100    100    ...\n",
       "5 100    100    100    100    100    100    100    100    100    100    ...\n",
       "6 100    100    100    100    100    100    100    100    100    100    ...\n",
       "  WAP520 LONGITUDE LATITUDE FLOOR BUILDINGID SPACEID RELATIVEPOSITION USERID\n",
       "1 100    -7541.264 4864921  2     1          106     2                 2    \n",
       "2 100    -7536.621 4864934  2     1          106     2                 2    \n",
       "3 100    -7519.152 4864950  2     1          103     2                 2    \n",
       "4 100    -7524.570 4864934  2     1          102     2                 2    \n",
       "5 100    -7632.144 4864982  0     0          122     2                11    \n",
       "6 100    -7533.896 4864939  2     1          105     2                 2    \n",
       "  PHONEID TIMESTAMP \n",
       "1 23      1371713733\n",
       "2 23      1371713691\n",
       "3 23      1371714095\n",
       "4 23      1371713807\n",
       "5 13      1369909710\n",
       "6 23      1371713841"
      ]
     },
     "metadata": {},
     "output_type": "display_data"
    }
   ],
   "source": [
    "head(dati)"
   ]
  },
  {
   "cell_type": "markdown",
   "metadata": {},
   "source": [
    "**From longitude/latitude to horizontal/vertical **"
   ]
  },
  {
   "cell_type": "markdown",
   "metadata": {},
   "source": [
    "In the dataset the coordinates are expressed in unconfortable units (meters from the zero latitude/logitude). We convert them to meters starting from the border of the campus."
   ]
  },
  {
   "cell_type": "code",
   "execution_count": 56,
   "metadata": {
    "collapsed": true
   },
   "outputs": [],
   "source": [
    "min_long <- min(dati$LONGITUDE)\n",
    "max_long <- max(dati$LONGITUDE)\n",
    "min_lat <- min(dati$LATITUDE)\n",
    "max_lat <- max(dati$LATITUDE)\n",
    "dati$horiz <- dati$LONGITUDE - min_long\n",
    "dati$vert <- dati$LATITUDE - min_lat"
   ]
  },
  {
   "cell_type": "code",
   "execution_count": 57,
   "metadata": {},
   "outputs": [
    {
     "data": {
      "text/html": [
       "270.942784026265"
      ],
      "text/latex": [
       "270.942784026265"
      ],
      "text/markdown": [
       "270.942784026265"
      ],
      "text/plain": [
       "[1] 270.9428"
      ]
     },
     "metadata": {},
     "output_type": "display_data"
    },
    {
     "data": {
      "text/html": [
       "390.519409906119"
      ],
      "text/latex": [
       "390.519409906119"
      ],
      "text/markdown": [
       "390.519409906119"
      ],
      "text/plain": [
       "[1] 390.5194"
      ]
     },
     "metadata": {},
     "output_type": "display_data"
    }
   ],
   "source": [
    "max(dati$vert)\n",
    "max(dati$horiz)"
   ]
  },
  {
   "cell_type": "markdown",
   "metadata": {},
   "source": [
    "**Define new variable: zone **"
   ]
  },
  {
   "cell_type": "markdown",
   "metadata": {},
   "source": [
    "We define a new categorical variable: zone, that is a combination of floor and building."
   ]
  },
  {
   "cell_type": "code",
   "execution_count": 58,
   "metadata": {
    "collapsed": true
   },
   "outputs": [],
   "source": [
    "dati$zone <- apply(dati[,c(523:524)],1,paste,collapse = \"_\")"
   ]
  },
  {
   "cell_type": "markdown",
   "metadata": {},
   "source": [
    "**Convert 100 values in -100 **"
   ]
  },
  {
   "cell_type": "markdown",
   "metadata": {},
   "source": [
    "The WAP intensity values are represented as negative integer values ranging -104dBm (extremely poor signal) to 0dbM. The positive value 100 is used to denote when a WAP was not detected. We convert it to the lowest value range -100dBm."
   ]
  },
  {
   "cell_type": "code",
   "execution_count": 59,
   "metadata": {
    "collapsed": true
   },
   "outputs": [],
   "source": [
    "dati[, c(1:520)] <- dati[, c(1:520)] %>% apply(2,function(x) ifelse(x == 100, -100, x))"
   ]
  },
  {
   "cell_type": "markdown",
   "metadata": {},
   "source": [
    "**Remove WAPs that are not measuring**"
   ]
  },
  {
   "cell_type": "code",
   "execution_count": 60,
   "metadata": {
    "collapsed": true
   },
   "outputs": [],
   "source": [
    "nnn <- colSums(dati[,c(1:520)])\n",
    "nam <- names(nnn[nnn == -1993700])"
   ]
  },
  {
   "cell_type": "code",
   "execution_count": 61,
   "metadata": {
    "collapsed": true
   },
   "outputs": [],
   "source": [
    "dati <- dati[,!(colnames(dati) %in% nam )]"
   ]
  },
  {
   "cell_type": "code",
   "execution_count": 62,
   "metadata": {},
   "outputs": [
    {
     "data": {
      "text/html": [
       "55"
      ],
      "text/latex": [
       "55"
      ],
      "text/markdown": [
       "55"
      ],
      "text/plain": [
       "[1] 55"
      ]
     },
     "metadata": {},
     "output_type": "display_data"
    }
   ],
   "source": [
    "# number of waps that are not measuring any signal\n",
    "length(nam)"
   ]
  },
  {
   "cell_type": "markdown",
   "metadata": {},
   "source": [
    "## <a id=\"p4_2\">Data visualization</a>"
   ]
  },
  {
   "cell_type": "markdown",
   "metadata": {},
   "source": [
    "** Data per building and floor, and per zone**"
   ]
  },
  {
   "cell_type": "markdown",
   "metadata": {},
   "source": [
    "We recognise the 3 building structure of the campus. Building 0 has five floors, while buildings 1 and 2 have four floors."
   ]
  },
  {
   "cell_type": "code",
   "execution_count": 63,
   "metadata": {
    "collapsed": true,
    "hide_input": true
   },
   "outputs": [],
   "source": [
    "multiplot <- function(..., plotlist=NULL, file, cols=1, layout=NULL) {\n",
    "  library(grid)\n",
    "\n",
    "  # Make a list from the ... arguments and plotlist\n",
    "  plots <- c(list(...), plotlist)\n",
    "\n",
    "  numPlots = length(plots)\n",
    "\n",
    "  # If layout is NULL, then use 'cols' to determine layout\n",
    "  if (is.null(layout)) {\n",
    "    # Make the panel\n",
    "    # ncol: Number of columns of plots\n",
    "    # nrow: Number of rows needed, calculated from # of cols\n",
    "    layout <- matrix(seq(1, cols * ceiling(numPlots/cols)),\n",
    "                    ncol = cols, nrow = ceiling(numPlots/cols))\n",
    "  }\n",
    "\n",
    " if (numPlots==1) {\n",
    "    print(plots[[1]])\n",
    "\n",
    "  } else {\n",
    "    # Set up the page\n",
    "    grid.newpage()\n",
    "    pushViewport(viewport(layout = grid.layout(nrow(layout), ncol(layout))))\n",
    "\n",
    "    # Make each plot, in the correct location\n",
    "    for (i in 1:numPlots) {\n",
    "      # Get the i,j matrix positions of the regions that contain this subplot\n",
    "      matchidx <- as.data.frame(which(layout == i, arr.ind = TRUE))\n",
    "\n",
    "      print(plots[[i]], vp = viewport(layout.pos.row = matchidx$row,\n",
    "                                      layout.pos.col = matchidx$col))\n",
    "    }\n",
    "  }\n",
    "}"
   ]
  },
  {
   "cell_type": "code",
   "execution_count": 64,
   "metadata": {},
   "outputs": [
    {
     "data": {
      "image/png": "[encoded data removed]",
      "text/plain": [
       "plot without title"
      ]
     },
     "metadata": {},
     "output_type": "display_data"
    }
   ],
   "source": [
    "options(repr.plot.width=10, repr.plot.height=12)\n",
    "p1 <- ggplot(dati,aes(x=horiz,y=vert,col=BUILDINGID))+geom_point()+facet_grid( FLOOR ~ .)\n",
    "p2 <- ggplot(dati,aes(x=horiz,y=vert,col=zone))+geom_point()+facet_grid( FLOOR ~ .)+scale_colour_manual(values=rainbow(13))\n",
    "multiplot(p1,p2, cols = 2)"
   ]
  },
  {
   "cell_type": "markdown",
   "metadata": {},
   "source": [
    "**Coordinates dependence of WAP041 intensity (dBm)**"
   ]
  },
  {
   "cell_type": "markdown",
   "metadata": {},
   "source": [
    "We consider WAP041 as an example to visualize how the signal intensity (dBm) depends on the person location inside the building. "
   ]
  },
  {
   "cell_type": "code",
   "execution_count": 65,
   "metadata": {},
   "outputs": [
    {
     "data": {},
     "metadata": {},
     "output_type": "display_data"
    },
    {
     "data": {
      "image/png": "[encoded data removed]",
      "text/plain": [
       "plot without title"
      ]
     },
     "metadata": {},
     "output_type": "display_data"
    }
   ],
   "source": [
    "options(repr.plot.width=6, repr.plot.height=4)\n",
    "dati_w <- dati[,c(\"WAP041\",\"horiz\",\"vert\")]\n",
    "dati_w <- dati_w %>% mutate(\"WAP041\"= ifelse(WAP041 == 100, -100, WAP041))\n",
    "ggplot(dati_w,aes(x=horiz,y=vert,col=WAP041))+geom_point()+scale_colour_gradientn(colours=c(\"gray\",\"red\",\"#5F021F\"))"
   ]
  },
  {
   "cell_type": "markdown",
   "metadata": {},
   "source": [
    "**We check how the signal of WAP041 is distributed on the four floors **"
   ]
  },
  {
   "cell_type": "markdown",
   "metadata": {},
   "source": [
    "Looking at the distribution of the signal related to WAP041 we can tell that it is located in the building 2 on the second floor."
   ]
  },
  {
   "cell_type": "code",
   "execution_count": 66,
   "metadata": {
    "collapsed": true
   },
   "outputs": [],
   "source": [
    "dati_melt <- melt(dati[,c(\"WAP041\",\"horiz\",\"vert\",\"FLOOR\")],id=c(\"vert\",\"horiz\",\"FLOOR\"))"
   ]
  },
  {
   "cell_type": "code",
   "execution_count": 67,
   "metadata": {},
   "outputs": [
    {
     "data": {},
     "metadata": {},
     "output_type": "display_data"
    },
    {
     "data": {
      "image/png": "[encoded data removed]",
      "text/plain": [
       "plot without title"
      ]
     },
     "metadata": {},
     "output_type": "display_data"
    }
   ],
   "source": [
    "options(repr.plot.width=5, repr.plot.height=5)\n",
    "aa <- dati_melt[dati_melt$variable == \"WAP041\",]\n",
    "ggplot(aa[(aa$value > -80),],aes(x=horiz,y=vert,col=value))+geom_jitter()+facet_wrap( ~ FLOOR)+\n",
    "scale_colour_gradientn(colours=c(adjustcolor( \"gray\", alpha.f = 1),\"red\",\"#5F021F\",\"black\"))"
   ]
  },
  {
   "cell_type": "markdown",
   "metadata": {},
   "source": [
    "**Distribution of intensity values **"
   ]
  },
  {
   "cell_type": "markdown",
   "metadata": {},
   "source": [
    "We observe that 96% of the waps entries contains zero-intensity values (-100 dBm). Only 4% of the entries contains  non-zero-intensity values. "
   ]
  },
  {
   "cell_type": "code",
   "execution_count": 68,
   "metadata": {},
   "outputs": [
    {
     "name": "stderr",
     "output_type": "stream",
     "text": [
      "No id variables; using all as measure variables\n"
     ]
    }
   ],
   "source": [
    "dw <- melt(dati[,c(1:465)])"
   ]
  },
  {
   "cell_type": "code",
   "execution_count": 69,
   "metadata": {},
   "outputs": [
    {
     "name": "stdout",
     "output_type": "stream",
     "text": [
      "[1] \"Number of zero intensity values 96 %\"\n",
      "[1] \"Number of nonzero intensity values 4 %\"\n"
     ]
    }
   ],
   "source": [
    "print(paste0(\"Number of zero intensity values \",round(dim(dw[dw$value == -100,])[1]/9270705*100),\" %\"))\n",
    "print(paste0(\"Number of nonzero intensity values \",round(dim(dw[dw$value != -100,])[1]/9270705*100),\" %\"))"
   ]
  },
  {
   "cell_type": "code",
   "execution_count": 70,
   "metadata": {},
   "outputs": [
    {
     "data": {
      "image/png": "[encoded data removed]",
      "text/plain": [
       "plot without title"
      ]
     },
     "metadata": {},
     "output_type": "display_data"
    }
   ],
   "source": [
    "options(repr.plot.width=12, repr.plot.height=4)\n",
    "\n",
    "pp1 <- ggplot(dw,aes(x=value))+geom_histogram(col=\"red\",fill=\"#ff9999\",breaks=seq(-110, 0, by =2))+\n",
    "theme(axis.text=element_text(size=12),axis.title=element_text(size=14))+ ylab(\"counts\")+xlab(\"Signal intensity (dBm)\")+\n",
    "ggtitle(\"Distribution of intensity values\")\n",
    "\n",
    "pp2 <- ggplot(dw[which(dw$value !=-100),],aes(x=value))+geom_histogram(col=\"red\",fill=\"#ff9999\",breaks=seq(-110, 0, by =2))+\n",
    "theme(axis.text=element_text(size=12),axis.title=element_text(size=14))+ ylab(\"counts\")+xlab(\"Signal intensity (dBm)\")+\n",
    "ggtitle(\"Removing zero signal (-100dBm) values\")\n",
    "\n",
    "multiplot(pp1,pp2, cols = 2)"
   ]
  },
  {
   "cell_type": "markdown",
   "metadata": {},
   "source": [
    "## <a id=\"p4_3\">Removing outliers</a>"
   ]
  },
  {
   "cell_type": "markdown",
   "metadata": {},
   "source": [
    "We observe that some WAPs record high intensity values that are out of the typical WAPs intensity distribution. If we look at the spatial intensity distribution, we see that these high values seem to be located far from the bulk of the nonzero intensity points (where we suppose the WAP is located). We also observe that such values were collected almost entirely by just one user (USER6). We think that they are probably related to wrong measurements, and we decide to substitute them with -100dBm in the dataset (zero-intensity values)."
   ]
  },
  {
   "cell_type": "code",
   "execution_count": 71,
   "metadata": {
    "collapsed": true
   },
   "outputs": [],
   "source": [
    "dati_melt1 <- melt(dati[,c(\"WAP012\",\"horiz\",\"vert\",\"FLOOR\")],id=c(\"vert\",\"horiz\",\"FLOOR\"))"
   ]
  },
  {
   "cell_type": "code",
   "execution_count": 72,
   "metadata": {},
   "outputs": [
    {
     "data": {},
     "metadata": {},
     "output_type": "display_data"
    },
    {
     "data": {
      "image/png": "[encoded data removed]",
      "text/plain": [
       "plot without title"
      ]
     },
     "metadata": {},
     "output_type": "display_data"
    }
   ],
   "source": [
    "options(repr.plot.width=5, repr.plot.height=5)\n",
    "aa <- dati_melt1[dati_melt1$variable == \"WAP012\",]\n",
    "ggplot(aa[(aa$value > -80),],aes(x=horiz,y=vert,col=value))+geom_jitter()+facet_wrap( ~ FLOOR)+\n",
    "scale_colour_gradientn(colours=c(adjustcolor( \"gray\", alpha.f = 1),\"red\",\"#5F021F\",\"black\"))"
   ]
  },
  {
   "cell_type": "code",
   "execution_count": 73,
   "metadata": {},
   "outputs": [
    {
     "name": "stderr",
     "output_type": "stream",
     "text": [
      "No id variables; using all as measure variables\n",
      "No id variables; using all as measure variables\n"
     ]
    }
   ],
   "source": [
    "dw <- melt(dati[,c(1:465)])\n",
    "dw1 <- melt(dati[dati$USERID == 6,c(1:465)])"
   ]
  },
  {
   "cell_type": "code",
   "execution_count": 74,
   "metadata": {},
   "outputs": [
    {
     "data": {
      "image/png": "[encoded data removed]",
      "text/plain": [
       "plot without title"
      ]
     },
     "metadata": {},
     "output_type": "display_data"
    }
   ],
   "source": [
    "options(repr.plot.width=12, repr.plot.height=5)\n",
    "\n",
    "pp1 <- ggplot(dw[which(dw$value !=-100),],aes(x=value))+geom_histogram(col=\"red\",fill=\"#ff9999\",breaks=seq(-110, 0, by =2))+\n",
    "theme(axis.text=element_text(size=12),axis.title=element_text(size=14))+ ylab(\"counts\")+xlab(\"Signal intensity (dBm)\")+\n",
    "ggtitle(\"All Users\")\n",
    "\n",
    "pp2 <- ggplot(dw1[which(dw1$value !=-100),],aes(x=value))+geom_histogram(col=\"red\",fill=\"#ff9999\",breaks=seq(-110, 0, by =2))+\n",
    "theme(axis.text=element_text(size=12),axis.title=element_text(size=14))+ ylab(\"counts\")+xlab(\"Signal intensity (dBm)\")+\n",
    "ggtitle(\"User 6\")\n",
    "\n",
    "multiplot(pp1,pp2, cols = 2)"
   ]
  },
  {
   "cell_type": "code",
   "execution_count": 75,
   "metadata": {
    "collapsed": true
   },
   "outputs": [],
   "source": [
    "dati_out1 <- melt(dati[,c(1:465,472)],id=\"USERID\")"
   ]
  },
  {
   "cell_type": "code",
   "execution_count": 76,
   "metadata": {},
   "outputs": [
    {
     "name": "stdout",
     "output_type": "stream",
     "text": [
      "[1] \"Total # of high values (> -20):  738\"\n",
      "[1] \"# of high values (> -20) for USER6: 700\"\n",
      "[1] \"# of high values (> -20) for USER14: 38\"\n"
     ]
    }
   ],
   "source": [
    "print(paste(\"Total # of high values (> -20): \", dim(dati_out1[dati_out1$value > -20,])[1]))\n",
    "print(paste0(\"# of high values (> -20) for USER6: \", dim(dati_out1[dati_out1$value > -20 & dati_out1$USERID == 6,])[1]))\n",
    "print(paste0(\"# of high values (> -20) for USER14: \", dim(dati_out1[dati_out1$value > -20 & dati_out1$USERID == 14,])[1]))"
   ]
  },
  {
   "cell_type": "markdown",
   "metadata": {},
   "source": [
    "**Put all values higher than -20dBm to zero intensity (-100dBm) **"
   ]
  },
  {
   "cell_type": "code",
   "execution_count": 77,
   "metadata": {
    "collapsed": true
   },
   "outputs": [],
   "source": [
    "dati[,c(1:465)] <- dati[,c(1:465)] %>% apply(2,function(x) ifelse(x > -20 , -100, x))"
   ]
  },
  {
   "cell_type": "markdown",
   "metadata": {},
   "source": [
    "## <a id=\"p4_4\">4 Preprocessing strategies</a>"
   ]
  },
  {
   "cell_type": "markdown",
   "metadata": {},
   "source": [
    "We try different preprocess strategies and for each preprocessing we train different models for zone prediction."
   ]
  },
  {
   "cell_type": "markdown",
   "metadata": {},
   "source": [
    "<img src=\"01_preprocess.png\" style=\"width: 400px;\" align=\"left\"/>"
   ]
  },
  {
   "cell_type": "markdown",
   "metadata": {},
   "source": [
    "**Preprocess 3: normalized signals **"
   ]
  },
  {
   "cell_type": "code",
   "execution_count": 78,
   "metadata": {
    "collapsed": true
   },
   "outputs": [],
   "source": [
    "dati3 <- dati"
   ]
  },
  {
   "cell_type": "code",
   "execution_count": 79,
   "metadata": {
    "collapsed": true
   },
   "outputs": [],
   "source": [
    "transp <- (t(dati3[,c(1:465)] ))\n",
    "transp <- transp %>% apply(2, function(x) (x-min(x))/(max(x)-min(x)))\n",
    "dati3[,c(1:465)] <- t(transp)"
   ]
  },
  {
   "cell_type": "markdown",
   "metadata": {},
   "source": [
    "Remove rows with NaN"
   ]
  },
  {
   "cell_type": "code",
   "execution_count": 80,
   "metadata": {
    "collapsed": true
   },
   "outputs": [],
   "source": [
    "dati3 <- (dati3[complete.cases(dati3), ])"
   ]
  },
  {
   "cell_type": "markdown",
   "metadata": {},
   "source": [
    "## <a id=\"p5\">Location prediction: zone (classification)</a>\n"
   ]
  },
  {
   "cell_type": "markdown",
   "metadata": {},
   "source": [
    "**Create train- test (80% - 20%), stratified wit variable \"zone\"**"
   ]
  },
  {
   "cell_type": "code",
   "execution_count": 81,
   "metadata": {
    "collapsed": true
   },
   "outputs": [],
   "source": [
    "trainIndex <- createDataPartition(dati3$zone, p = .8,list=FALSE,times = 1)\n",
    "train <- dati3[trainIndex,]\n",
    "test <- dati3[-trainIndex,]"
   ]
  },
  {
   "cell_type": "markdown",
   "metadata": {},
   "source": [
    "We create a subsample of the train set (10%) to perform model selection through cross-validation: 1595 instances"
   ]
  },
  {
   "cell_type": "code",
   "execution_count": 82,
   "metadata": {
    "collapsed": true
   },
   "outputs": [],
   "source": [
    "sampleIndex <- createDataPartition(train$zone, p= .1,list=FALSE,times = 1)\n",
    "sample <- train[sampleIndex,]"
   ]
  },
  {
   "cell_type": "code",
   "execution_count": 83,
   "metadata": {},
   "outputs": [
    {
     "data": {
      "text/html": [
       "<ol class=list-inline>\n",
       "\t<li>1595</li>\n",
       "\t<li>477</li>\n",
       "</ol>\n"
      ],
      "text/latex": [
       "\\begin{enumerate*}\n",
       "\\item 1595\n",
       "\\item 477\n",
       "\\end{enumerate*}\n"
      ],
      "text/markdown": [
       "1. 1595\n",
       "2. 477\n",
       "\n",
       "\n"
      ],
      "text/plain": [
       "[1] 1595  477"
      ]
     },
     "metadata": {},
     "output_type": "display_data"
    }
   ],
   "source": [
    "dim(sample)"
   ]
  },
  {
   "cell_type": "markdown",
   "metadata": {},
   "source": [
    "<big> **Model selection: Training of different models with cross-validation on subsample (1595 instances)  ** </big>"
   ]
  },
  {
   "cell_type": "markdown",
   "metadata": {},
   "source": [
    "We use 10-fold cross-validation, repeated 20 times for testing different model parameters."
   ]
  },
  {
   "cell_type": "markdown",
   "metadata": {},
   "source": [
    "**k-nn **"
   ]
  },
  {
   "cell_type": "code",
   "execution_count": 84,
   "metadata": {
    "collapsed": true
   },
   "outputs": [],
   "source": [
    "#t <- proc.time()\n",
    "#set.seed(400)\n",
    "#ctrl <- trainControl(method=\"repeatedcv\",number=10,repeats = 1)\n",
    "#knnFit <- train(zone ~ ., data = sample[,c(1:465,477)], method = \"knn\", trControl = ctrl, tuneLength = 20)\n",
    "#proc.time()-t"
   ]
  },
  {
   "cell_type": "code",
   "execution_count": 85,
   "metadata": {
    "collapsed": true
   },
   "outputs": [],
   "source": [
    "#saveRDS(knnFit, \"report_knn_01.rds\") "
   ]
  },
  {
   "cell_type": "code",
   "execution_count": 86,
   "metadata": {
    "collapsed": true
   },
   "outputs": [],
   "source": [
    "knnFit <- readRDS(\"report_knn_01.rds\")"
   ]
  },
  {
   "cell_type": "code",
   "execution_count": 87,
   "metadata": {},
   "outputs": [
    {
     "data": {
      "text/plain": [
       "k-Nearest Neighbors \n",
       "\n",
       "1595 samples\n",
       " 465 predictor\n",
       "  13 classes: '0_0', '0_1', '0_2', '1_0', '1_1', '1_2', '2_0', '2_1', '2_2', '3_0', '3_1', '3_2', '4_2' \n",
       "\n",
       "No pre-processing\n",
       "Resampling: Cross-Validated (10 fold, repeated 1 times) \n",
       "Summary of sample sizes: 1437, 1435, 1434, 1437, 1435, 1434, ... \n",
       "Resampling results across tuning parameters:\n",
       "\n",
       "  k   Accuracy   Kappa    \n",
       "   5  0.9768427  0.9747191\n",
       "   7  0.9699084  0.9671473\n",
       "   9  0.9636346  0.9602932\n",
       "  11  0.9498330  0.9452047\n",
       "  13  0.9417038  0.9363230\n",
       "  15  0.9329257  0.9266971\n",
       "  17  0.9184951  0.9109220\n",
       "  19  0.9084515  0.8999630\n",
       "  21  0.8959236  0.8862407\n",
       "  23  0.8896457  0.8793793\n",
       "  25  0.8877587  0.8772923\n",
       "  27  0.8789965  0.8676650\n",
       "  29  0.8739925  0.8621595\n",
       "  31  0.8689728  0.8566284\n",
       "  33  0.8664925  0.8539047\n",
       "  35  0.8658871  0.8532513\n",
       "  37  0.8652424  0.8525515\n",
       "  39  0.8539998  0.8402198\n",
       "  41  0.8501985  0.8360449\n",
       "  43  0.8489445  0.8346577\n",
       "\n",
       "Accuracy was used to select the optimal model using  the largest value.\n",
       "The final value used for the model was k = 5."
      ]
     },
     "metadata": {},
     "output_type": "display_data"
    }
   ],
   "source": [
    "knnFit"
   ]
  },
  {
   "cell_type": "markdown",
   "metadata": {},
   "source": [
    "**C5.0 ** "
   ]
  },
  {
   "cell_type": "code",
   "execution_count": 88,
   "metadata": {
    "collapsed": true
   },
   "outputs": [],
   "source": [
    "#t <- proc.time()\n",
    "#set.seed(400)\n",
    "#ctrl <- trainControl(method=\"repeatedcv\",number=10,repeats = 1)\n",
    "#C50Fit <- train(zone ~ ., data = sample[,c(1:465,477)], method = \"C5.0\", trControl = ctrl, tuneLength = 20)\n",
    "#proc.time()-t"
   ]
  },
  {
   "cell_type": "code",
   "execution_count": 89,
   "metadata": {
    "collapsed": true
   },
   "outputs": [],
   "source": [
    "#saveRDS(C50Fit, \"report_C50_01.rds\") "
   ]
  },
  {
   "cell_type": "code",
   "execution_count": 90,
   "metadata": {
    "collapsed": true
   },
   "outputs": [],
   "source": [
    "C50Fit <- readRDS(\"report_C50_01.rds\")"
   ]
  },
  {
   "cell_type": "code",
   "execution_count": 91,
   "metadata": {},
   "outputs": [
    {
     "data": {
      "text/plain": [
       "C5.0 \n",
       "\n",
       "1595 samples\n",
       " 465 predictor\n",
       "  13 classes: '0_0', '0_1', '0_2', '1_0', '1_1', '1_2', '2_0', '2_1', '2_2', '3_0', '3_1', '3_2', '4_2' \n",
       "\n",
       "No pre-processing\n",
       "Resampling: Cross-Validated (10 fold, repeated 1 times) \n",
       "Summary of sample sizes: 1437, 1435, 1434, 1437, 1435, 1434, ... \n",
       "Resampling results across tuning parameters:\n",
       "\n",
       "  model  winnow  trials  Accuracy   Kappa    \n",
       "  rules  FALSE     1     0.8771613  0.8657947\n",
       "  rules  FALSE    10     0.9599084  0.9562348\n",
       "  rules  FALSE    20     0.9730888  0.9706277\n",
       "  rules  FALSE    30     0.9699715  0.9672233\n",
       "  rules  FALSE    40     0.9712295  0.9685910\n",
       "  rules  FALSE    50     0.9712333  0.9685987\n",
       "  rules  FALSE    60     0.9706122  0.9679206\n",
       "  rules  FALSE    70     0.9681082  0.9651886\n",
       "  rules  FALSE    80     0.9705965  0.9679061\n",
       "  rules  FALSE    90     0.9706122  0.9679241\n",
       "  rules  FALSE   100     0.9737217  0.9713169\n",
       "  rules   TRUE     1     0.8695552  0.8574750\n",
       "  rules   TRUE    10     0.9210387  0.9138074\n",
       "  rules   TRUE    20     0.9229375  0.9158522\n",
       "  rules   TRUE    30     0.9235229  0.9164805\n",
       "  rules   TRUE    40     0.9260469  0.9192559\n",
       "  rules   TRUE    50     0.9222691  0.9151202\n",
       "  rules   TRUE    60     0.9266600  0.9199100\n",
       "  rules   TRUE    70     0.9228902  0.9158098\n",
       "  rules   TRUE    80     0.9235073  0.9164847\n",
       "  rules   TRUE    90     0.9241363  0.9171697\n",
       "  rules   TRUE   100     0.9260271  0.9192281\n",
       "  tree   FALSE     1     0.8658085  0.8535000\n",
       "  tree   FALSE    10     0.9548882  0.9507304\n",
       "  tree   FALSE    20     0.9630174  0.9596108\n",
       "  tree   FALSE    30     0.9649200  0.9616946\n",
       "  tree   FALSE    40     0.9630372  0.9596395\n",
       "  tree   FALSE    50     0.9655529  0.9623895\n",
       "  tree   FALSE    60     0.9661937  0.9630908\n",
       "  tree   FALSE    70     0.9674437  0.9644569\n",
       "  tree   FALSE    80     0.9655726  0.9624145\n",
       "  tree   FALSE    90     0.9674555  0.9644707\n",
       "  tree   FALSE   100     0.9687016  0.9658309\n",
       "  tree    TRUE     1     0.8551560  0.8417548\n",
       "  tree    TRUE    10     0.9172574  0.9096218\n",
       "  tree    TRUE    20     0.9228390  0.9157219\n",
       "  tree    TRUE    30     0.9272536  0.9205477\n",
       "  tree    TRUE    40     0.9222299  0.9150546\n",
       "  tree    TRUE    50     0.9197218  0.9123099\n",
       "  tree    TRUE    60     0.9228430  0.9157150\n",
       "  tree    TRUE    70     0.9196943  0.9122625\n",
       "  tree    TRUE    80     0.9203271  0.9129649\n",
       "  tree    TRUE    90     0.9215929  0.9143548\n",
       "  tree    TRUE   100     0.9222416  0.9150668\n",
       "\n",
       "Accuracy was used to select the optimal model using  the largest value.\n",
       "The final values used for the model were trials = 100, model = rules and\n",
       " winnow = FALSE."
      ]
     },
     "metadata": {},
     "output_type": "display_data"
    }
   ],
   "source": [
    "C50Fit"
   ]
  },
  {
   "cell_type": "markdown",
   "metadata": {},
   "source": [
    "**Random Forest ** "
   ]
  },
  {
   "cell_type": "code",
   "execution_count": 92,
   "metadata": {},
   "outputs": [],
   "source": [
    "#t <- proc.time()\n",
    "#set.seed(400)\n",
    "#ctrl <- trainControl(method=\"repeatedcv\",number=10,repeats = 1)\n",
    "#rfFit <- train(zone ~ ., data = sample[,c(1:465,477)], method = \"rf\", trControl = ctrl, tuneLength = 20)\n",
    "#proc.time()-t"
   ]
  },
  {
   "cell_type": "markdown",
   "metadata": {},
   "source": [
    "**Summary of all the trained models performance**"
   ]
  },
  {
   "cell_type": "markdown",
   "metadata": {},
   "source": [
    "<img src=\"02_modelszone1.png\" style=\"width: 400px;\" align=\"left\"/>"
   ]
  },
  {
   "cell_type": "markdown",
   "metadata": {},
   "source": [
    "<big> **Validation of the selected model: training on the full train set, validation on test set ** </big>"
   ]
  },
  {
   "cell_type": "markdown",
   "metadata": {},
   "source": [
    "We choose the best performing model (Random Forest, parameters: mtry = 52 ), preprocess 3. We train the model on the full train set and test it on the test set."
   ]
  },
  {
   "cell_type": "code",
   "execution_count": 94,
   "metadata": {},
   "outputs": [],
   "source": [
    "# MODEL RANDOM FOREST (mtry = 52), (parameter chosen from previous tests with subsets)\n",
    "\n",
    "#t <- proc.time()\n",
    "#set.seed(400)\n",
    "#rfFit <- train(zone ~ ., data = train[,c(1:465,477)], method = \"rf\", trControl = trainControl(method=\"none\"), preProcess = c(\"center\",\"scale\",\"zv\"), tuneLength = 1, tuneGrid = data.frame(.mtry = 52))\n",
    "#proc.time()-t"
   ]
  },
  {
   "cell_type": "code",
   "execution_count": 95,
   "metadata": {
    "collapsed": true
   },
   "outputs": [],
   "source": [
    "rfFit <- readRDS(\"rf_dbnorm_training.rds\")"
   ]
  },
  {
   "cell_type": "code",
   "execution_count": 99,
   "metadata": {},
   "outputs": [
    {
     "data": {
      "text/html": [
       "0.999243761028485"
      ],
      "text/latex": [
       "0.999243761028485"
      ],
      "text/markdown": [
       "0.999243761028485"
      ],
      "text/plain": [
       "[1] 0.9992438"
      ]
     },
     "metadata": {},
     "output_type": "display_data"
    }
   ],
   "source": [
    "predictions <- predict(rfFit, test[,c(1:465)])\n",
    "results <- test[,c(1:465,477)]\n",
    "results$pred_zone <- predictions\n",
    "res <- results[,c(\"zone\",\"pred_zone\")]\n",
    "res <- res %>% mutate(\"correct\"= ifelse(pred_zone == zone,1,0) )\n",
    "\n",
    "accuracy <- sum(res$correct)/length(res$correct)\n",
    "accuracy ## Accuracy 0.9977"
   ]
  },
  {
   "cell_type": "markdown",
   "metadata": {},
   "source": [
    "**Misclassified instances **"
   ]
  },
  {
   "cell_type": "code",
   "execution_count": 98,
   "metadata": {},
   "outputs": [
    {
     "data": {
      "text/html": [
       "<table>\n",
       "<thead><tr><th></th><th scope=col>zone</th><th scope=col>pred_zone</th><th scope=col>correct</th></tr></thead>\n",
       "<tbody>\n",
       "\t<tr><th scope=row>488</th><td>3_2</td><td>2_2</td><td>0  </td></tr>\n",
       "\t<tr><th scope=row>3034</th><td>1_1</td><td>0_1</td><td>0  </td></tr>\n",
       "\t<tr><th scope=row>3200</th><td>0_0</td><td>1_0</td><td>0  </td></tr>\n",
       "</tbody>\n",
       "</table>\n"
      ],
      "text/latex": [
       "\\begin{tabular}{r|lll}\n",
       "  & zone & pred\\_zone & correct\\\\\n",
       "\\hline\n",
       "\t488 & 3\\_2 & 2\\_2 & 0    \\\\\n",
       "\t3034 & 1\\_1 & 0\\_1 & 0    \\\\\n",
       "\t3200 & 0\\_0 & 1\\_0 & 0    \\\\\n",
       "\\end{tabular}\n"
      ],
      "text/markdown": [
       "\n",
       "| <!--/--> | zone | pred_zone | correct | \n",
       "|---|---|---|\n",
       "| 488 | 3_2 | 2_2 | 0   | \n",
       "| 3034 | 1_1 | 0_1 | 0   | \n",
       "| 3200 | 0_0 | 1_0 | 0   | \n",
       "\n",
       "\n"
      ],
      "text/plain": [
       "     zone pred_zone correct\n",
       "488  3_2  2_2       0      \n",
       "3034 1_1  0_1       0      \n",
       "3200 0_0  1_0       0      "
      ]
     },
     "metadata": {},
     "output_type": "display_data"
    }
   ],
   "source": [
    "res[res$correct == 0,]"
   ]
  },
  {
   "cell_type": "markdown",
   "metadata": {},
   "source": [
    "> **We use the best performing model (Random Forest, mtry = 52) combined to data preprocessing3 (normalized data) to predict \"zone\". **\n",
    "\n",
    "> **We can predict \"zone\" with a very high accuracy: 99.9%. The \"building\" is predicted with 100% accuracy, while there are only 3 misclassifications for \"floor\" prediction. In these cases the position is wrongly assigned to an upper or lower floor.**"
   ]
  },
  {
   "cell_type": "markdown",
   "metadata": {},
   "source": [
    "## <a id=\"p6\">Location prediction: coordinates (regression)</a>"
   ]
  },
  {
   "cell_type": "markdown",
   "metadata": {},
   "source": [
    "We use the same workflow used for \"zone\" prediction, to predict location coordinates. In this case we use regression models:"
   ]
  },
  {
   "cell_type": "markdown",
   "metadata": {},
   "source": [
    "**1 - Model selection (10- fold cross-validation, x20 for best model parameters selection) on a 10% subset of the trainig set (1595 instances)**"
   ]
  },
  {
   "cell_type": "markdown",
   "metadata": {},
   "source": [
    "<img src=\"02_modelszone2.png\" style=\"width: 400px;\" align=\"left\"/>"
   ]
  },
  {
   "cell_type": "markdown",
   "metadata": {},
   "source": [
    "** 2 - Validation of the selected models: training on the full train set, validation on test set **"
   ]
  },
  {
   "cell_type": "markdown",
   "metadata": {},
   "source": [
    "<img src=\"02_modelszone2bis.png\" style=\"width: 400px;\" align=\"left\"/>"
   ]
  },
  {
   "cell_type": "markdown",
   "metadata": {},
   "source": [
    "We observe that k-nn performs better in terms of MAE (mean absolute error), while random forest performs better in terms of RMSE (root mean squared error). From the distribution of errors we see that k-nn tends to produce lowers errors in general, but few very high errors, that amplify the RMSE metric. Random forest produces slightly higher errors in general, but fewer \"extreme\" errors."
   ]
  },
  {
   "cell_type": "markdown",
   "metadata": {},
   "source": [
    "<img src=\"02_errors.png\" style=\"width: 800px;\" align=\"left\"/>"
   ]
  },
  {
   "cell_type": "markdown",
   "metadata": {},
   "source": [
    "## <a id=\"p7\">Conclusion</a>"
   ]
  },
  {
   "cell_type": "markdown",
   "metadata": {},
   "source": [
    "> ** We are able to predict indoor location of a user based on wifi fingerprint with a quite good accuracy. We predict building with 100% accuracy and floor with 99.9% accuracy. We can predict the location coordinates with a range of error of about 9m for the horizontal coordinate and 6m for the vertical coordinate.**"
   ]
  },
  {
   "cell_type": "markdown",
   "metadata": {},
   "source": [
    "<img src=\"02_conclusion.png\" style=\"width: 600px;\" align=\"left\"/>"
   ]
  }
 ],
 "metadata": {
  "kernelspec": {
   "display_name": "R",
   "language": "R",
   "name": "ir"
  },
  "language_info": {
   "codemirror_mode": "r",
   "file_extension": ".r",
   "mimetype": "text/x-r-source",
   "name": "R",
   "pygments_lexer": "r",
   "version": "3.4.0"
  }
 },
 "nbformat": 4,
 "nbformat_minor": 2
}
