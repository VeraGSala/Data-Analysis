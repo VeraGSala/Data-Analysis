{
 "cells": [
  {
   "cell_type": "markdown",
   "metadata": {},
   "source": [
    "---\n",
    "title: \"Predict profitability of new products\"\n",
    "subtitle: \"A case study for understanding regression models\"\n",
    "author: \"Vera Giulia Sala - Ubiqum Code Academy\"\n",
    "\n",
    "output: \n",
    "  html_document:\n",
    "    highlight: default\n",
    "    number_sections: yes\n",
    "    theme: cosmo\n",
    "    toc: yes\n",
    "    toc_depth: 2\n",
    "---\n"
   ]
  },
  {
   "cell_type": "markdown",
   "metadata": {},
   "source": [
    "\n",
    "******\n",
    "# Goal of the analysis\n",
    "******\n"
   ]
  },
  {
   "cell_type": "code",
   "execution_count": null,
   "metadata": {
    "collapsed": true
   },
   "outputs": [],
   "source": []
  }
 ],
 "metadata": {
  "kernelspec": {
   "display_name": "R",
   "language": "R",
   "name": "ir"
  },
  "language_info": {
   "codemirror_mode": "r",
   "file_extension": ".r",
   "mimetype": "text/x-r-source",
   "name": "R",
   "pygments_lexer": "r",
   "version": "3.4.0"
  }
 },
 "nbformat": 4,
 "nbformat_minor": 2
}
